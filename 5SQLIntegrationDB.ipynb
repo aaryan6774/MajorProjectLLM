{
 "cells": [
  {
   "cell_type": "markdown",
   "id": "a3314b05-4db2-4257-a397-94979072658f",
   "metadata": {},
   "source": [
    "# SQL Integration for Image Metadata Storage"
   ]
  },
  {
   "cell_type": "code",
   "execution_count": null,
   "id": "c62c4e14-ee01-4447-bd0e-0ca87d0a59a4",
   "metadata": {},
   "outputs": [],
   "source": [
    "import sqlite3\n",
    "import datetime\n"
   ]
  },
  {
   "cell_type": "code",
   "execution_count": null,
   "id": "e8691ae1-64c8-48b5-96d9-53e7c50787b4",
   "metadata": {},
   "outputs": [],
   "source": [
    "conn = sqlite3.connect(\"image_data.db\")\n",
    "cursor = conn.cursor()\n",
    "\n"
   ]
  },
  {
   "cell_type": "code",
   "execution_count": null,
   "id": "c069911b-c263-4ccf-b3a9-106140791965",
   "metadata": {},
   "outputs": [],
   "source": [
    "cursor.execute(\"\"\"\n",
    "CREATE TABLE IF NOT EXISTS image_data (\n",
    "    id INTEGER PRIMARY KEY AUTOINCREMENT,\n",
    "    filename TEXT,\n",
    "    category TEXT,\n",
    "    created_at TIMESTAMP\n",
    ")\n",
    "\"\"\")\n"
   ]
  },
  {
   "cell_type": "code",
   "execution_count": null,
   "id": "e4d9925c-4568-4a0d-b5ca-78d947f71e50",
   "metadata": {},
   "outputs": [],
   "source": [
    "def save_image_metadata(filename, category):\n",
    "    created_at = datetime.datetime.now()\n",
    "    cursor.execute(\"INSERT INTO image_data (filename, category, created_at) VALUES (?, ?, ?)\",\n",
    "                   (filename, category, created_at))\n",
    "    conn.commit()\n"
   ]
  },
  {
   "cell_type": "code",
   "execution_count": null,
   "id": "577edf72-b29f-485e-95c8-ab6641c4f52b",
   "metadata": {},
   "outputs": [],
   "source": [
    "save_image_metadata(\"generated_cat_001.png\", \"cat\")\n"
   ]
  },
  {
   "cell_type": "code",
   "execution_count": null,
   "id": "4d663d6c-face-4dc1-a09e-5a6f289b96c6",
   "metadata": {},
   "outputs": [],
   "source": []
  }
 ],
 "metadata": {
  "kernelspec": {
   "display_name": "Python 3 (ipykernel)",
   "language": "python",
   "name": "python3"
  },
  "language_info": {
   "codemirror_mode": {
    "name": "ipython",
    "version": 3
   },
   "file_extension": ".py",
   "mimetype": "text/x-python",
   "name": "python",
   "nbconvert_exporter": "python",
   "pygments_lexer": "ipython3",
   "version": "3.11.0"
  }
 },
 "nbformat": 4,
 "nbformat_minor": 5
}
