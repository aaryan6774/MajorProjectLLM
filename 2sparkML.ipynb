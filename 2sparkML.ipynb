{
 "cells": [
  {
   "cell_type": "markdown",
   "id": "3585bf84-b783-49f6-83b1-149d3d94ef0d",
   "metadata": {},
   "source": [
    "# Decison Tree SPARKML"
   ]
  },
  {
   "cell_type": "code",
   "execution_count": null,
   "id": "b6a445f8-d163-42a1-aa05-d94cd8c1da2c",
   "metadata": {},
   "outputs": [],
   "source": [
    "!pip install pyspark pillow numpy"
   ]
  },
  {
   "cell_type": "code",
   "execution_count": null,
   "id": "740af2ed-8a33-48e9-92cc-6268503f9083",
   "metadata": {},
   "outputs": [],
   "source": [
    "from pyspark.sql import SparkSession\n",
    "from pyspark.ml.classification import DecisionTreeClassifier\n",
    "from pyspark.ml.feature import VectorAssembler\n",
    "from pyspark.ml.evaluation import MulticlassClassificationEvaluator\n",
    "import numpy as np\n",
    "import os\n",
    "from PIL import Image\n"
   ]
  },
  {
   "cell_type": "code",
   "execution_count": null,
   "id": "5a1e1e87-cb83-49b9-ae61-8e16c4b54003",
   "metadata": {},
   "outputs": [],
   "source": [
    "spark = SparkSession.builder.appName(\"Image_Classification\").getOrCreate()\n"
   ]
  },
  {
   "cell_type": "code",
   "execution_count": null,
   "id": "fd1c6bb6-ab42-4903-8412-e115d205c54e",
   "metadata": {},
   "outputs": [],
   "source": [
    "def extract_features_from_image(image_path):\n",
    "    try:\n",
    "        img = Image.open(image_path).convert(\"L\")  # Convert to grayscale\n",
    "        img = img.resize((64, 64))  # Resize to fixed shape\n",
    "        img_array = np.array(img).flatten()  # Flatten into 1D array\n",
    "        return img_array.tolist()\n",
    "    except:\n",
    "        return None  # Handle errors\n"
   ]
  },
  {
   "cell_type": "code",
   "execution_count": null,
   "id": "2b4b51ab-b8c9-4461-bcc3-2fda180dd606",
   "metadata": {},
   "outputs": [],
   "source": [
    "def load_image_data(folder, label):\n",
    "    data = []\n",
    "    for filename in os.listdir(folder):\n",
    "        img_path = os.path.join(folder, filename)\n",
    "        features = extract_features_from_image(img_path)\n",
    "        if features:\n",
    "            data.append((features, label))\n",
    "    return data"
   ]
  },
  {
   "cell_type": "code",
   "execution_count": null,
   "id": "43efb2a9-fc1c-4c2b-84ee-0cadd5f70f69",
   "metadata": {},
   "outputs": [],
   "source": [
    "cat_data = load_image_data(\"cats\", label=0)\n",
    "dog_data = load_image_data(\"dogs\", label=1)"
   ]
  },
  {
   "cell_type": "code",
   "execution_count": null,
   "id": "6d38a8bd-b8b4-4635-8165-b81fe566a0e2",
   "metadata": {},
   "outputs": [],
   "source": [
    "columns = [\"features\", \"label\"]\n",
    "image_data = cat_data + dog_data\n",
    "df = spark.createDataFrame(image_data, columns)"
   ]
  },
  {
   "cell_type": "code",
   "execution_count": null,
   "id": "367125b2-b889-4630-8cb9-720c5540cb45",
   "metadata": {},
   "outputs": [],
   "source": [
    "vector_assembler = VectorAssembler(inputCols=[\"features\"], outputCol=\"features_vector\")\n",
    "df = vector_assembler.transform(df).select(\"features_vector\", \"label\")"
   ]
  },
  {
   "cell_type": "code",
   "execution_count": null,
   "id": "2dcaf84f-58b4-49c8-82df-6989df5b4b0c",
   "metadata": {},
   "outputs": [],
   "source": [
    "train_data, test_data = df.randomSplit([0.8, 0.2], seed=42)"
   ]
  },
  {
   "cell_type": "code",
   "execution_count": null,
   "id": "c06c2c6b-56e7-407c-b8f4-b5eb5459cd72",
   "metadata": {},
   "outputs": [],
   "source": [
    "dt = DecisionTreeClassifier(featuresCol=\"features_vector\", labelCol=\"label\")\n",
    "model = dt.fit(train_data)"
   ]
  },
  {
   "cell_type": "code",
   "execution_count": null,
   "id": "8bf6ffe6-fbd5-4433-b82d-c488b7bf67d1",
   "metadata": {},
   "outputs": [],
   "source": [
    "predictions = model.transform(test_data)"
   ]
  },
  {
   "cell_type": "code",
   "execution_count": null,
   "id": "d736e9ff-dc91-4c81-8415-e4587b867bbf",
   "metadata": {},
   "outputs": [],
   "source": [
    "evaluator = MulticlassClassificationEvaluator(labelCol=\"label\", metricName=\"accuracy\")\n",
    "accuracy = evaluator.evaluate(predictions)\n",
    "print(f\"Decision Tree Model Accuracy: {accuracy * 100:.2f}%\")\n"
   ]
  },
  {
   "cell_type": "code",
   "execution_count": null,
   "id": "d30e7bc4-e3d2-4432-855f-b8c0d79834c7",
   "metadata": {},
   "outputs": [],
   "source": [
    "model.save(\"pyspark_decision_tree_model\")"
   ]
  },
  {
   "cell_type": "code",
   "execution_count": null,
   "id": "2ae2c701-0fcb-451a-9f64-aca1ef9d7379",
   "metadata": {},
   "outputs": [],
   "source": []
  }
 ],
 "metadata": {
  "kernelspec": {
   "display_name": "Python 3 (ipykernel)",
   "language": "python",
   "name": "python3"
  },
  "language_info": {
   "codemirror_mode": {
    "name": "ipython",
    "version": 3
   },
   "file_extension": ".py",
   "mimetype": "text/x-python",
   "name": "python",
   "nbconvert_exporter": "python",
   "pygments_lexer": "ipython3",
   "version": "3.11.0"
  }
 },
 "nbformat": 4,
 "nbformat_minor": 5
}
