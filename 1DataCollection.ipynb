{
 "cells": [
  {
   "cell_type": "code",
   "execution_count": null,
   "id": "64b00e8f-36e2-4536-8b36-0e6a050e3a16",
   "metadata": {},
   "outputs": [],
   "source": [
    "from selenium import webdriver\n",
    "from selenium.webdriver.common.by import By\n",
    "from selenium.webdriver.common.keys import Keys\n",
    "from selenium.webdriver.chrome.service import Service\n",
    "from selenium.webdriver.common.action_chains import ActionChains\n",
    "import time\n",
    "import os\n",
    "import requests"
   ]
  },
  {
   "cell_type": "code",
   "execution_count": null,
   "id": "1c2bac61-539a-447c-8499-f73abd72cc48",
   "metadata": {},
   "outputs": [],
   "source": [
    "CHROMEDRIVER_PATH = \"path/to/chromedriver\"  # Update this path\n",
    "INSTAGRAM_USERNAME = \"your_username\"\n",
    "INSTAGRAM_PASSWORD = \"your_password\""
   ]
  },
  {
   "cell_type": "code",
   "execution_count": null,
   "id": "1380a875-d336-498f-9825-96d5835d9878",
   "metadata": {},
   "outputs": [],
   "source": [
    "def setup_driver():\n",
    "    service = Service(CHROMEDRIVER_PATH)\n",
    "    options = webdriver.ChromeOptions()\n",
    "    options.add_argument(\"--start-maximized\")\n",
    "    driver = webdriver.Chrome(service=service, options=options)\n",
    "    return driver"
   ]
  },
  {
   "cell_type": "code",
   "execution_count": null,
   "id": "3f5951b5-3904-442c-bcec-63cff994f0cc",
   "metadata": {},
   "outputs": [],
   "source": [
    "def login_instagram(driver):\n",
    "    driver.get(\"https://www.instagram.com/\")\n",
    "    time.sleep(3)"
   ]
  },
  {
   "cell_type": "code",
   "execution_count": null,
   "id": "efe71f90-ae0a-4e8c-adad-1141aa1fcb96",
   "metadata": {},
   "outputs": [],
   "source": [
    "username_input = driver.find_element(By.NAME, \"username\")\n",
    "    password_input = driver.find_element(By.NAME, \"password\")\n",
    "\n",
    "    username_input.send_keys(INSTAGRAM_USERNAME)\n",
    "    password_input.send_keys(INSTAGRAM_PASSWORD)\n",
    "    password_input.send_keys(Keys.RETURN)"
   ]
  },
  {
   "cell_type": "code",
   "execution_count": null,
   "id": "6e97eb1a-0225-4aec-ba92-2945cc4ccaea",
   "metadata": {},
   "outputs": [],
   "source": [
    "    time.sleep(5)  # Wait for login to complete\n"
   ]
  },
  {
   "cell_type": "code",
   "execution_count": null,
   "id": "1035dbd6-fb65-4b9b-87d6-b64e3cfabd40",
   "metadata": {},
   "outputs": [],
   "source": [
    "def get_image_urls(driver, hashtag, num_images=10):\n",
    "    url = f\"https://www.instagram.com/explore/tags/{hashtag}/\"\n",
    "    driver.get(url)\n",
    "    time.sleep(5)\n",
    "\n",
    "    image_urls = set()\n",
    "    scroll_count = 0\n",
    "\n",
    "    while len(image_urls) < num_images:\n",
    "        images = driver.find_elements(By.TAG_NAME, \"img\")\n",
    "        for img in images:\n",
    "            src = img.get_attribute(\"src\")\n",
    "            if src and src not in image_urls:\n",
    "                image_urls.add(src)\n",
    "                if len(image_urls) >= num_images:\n",
    "                    break"
   ]
  },
  {
   "cell_type": "code",
   "execution_count": null,
   "id": "bca3bb78-5a5c-47e3-9fad-9f280c7c083b",
   "metadata": {},
   "outputs": [],
   "source": [
    "driver.execute_script(\"window.scrollTo(0, document.body.scrollHeight);\")\n",
    "        time.sleep(3)\n",
    "        scroll_count += 1\n",
    "\n",
    "        if scroll_count > 10:  # Stop after too many scrolls\n",
    "            break\n",
    "\n",
    "    return list(image_urls)"
   ]
  },
  {
   "cell_type": "code",
   "execution_count": null,
   "id": "561d6e15-2024-4f27-a2b6-7bdb629e45fa",
   "metadata": {},
   "outputs": [],
   "source": [
    "def download_images(image_urls, folder=\"images\"):\n",
    "    os.makedirs(folder, exist_ok=True)\n",
    "    \n",
    "    for i, url in enumerate(image_urls):\n",
    "        response = requests.get(url)\n",
    "        if response.status_code == 200:\n",
    "            with open(f\"{folder}/image_{i+1}.jpg\", \"wb\") as file:\n",
    "                file.write(response.content)\n",
    "            print(f\"Downloaded {folder}/image_{i+1}.jpg\")\n",
    "\n",
    "# Main function\n",
    "if __name__ == \"__main__\":\n",
    "    driver = setup_driver()\n",
    "    \n",
    "    try:\n",
    "        login_instagram(driver)\n",
    "        cat_images = get_image_urls(driver, \"cat\", num_images=20)\n",
    "        dog_images = get_image_urls(driver, \"dog\", num_images=20)\n",
    "\n",
    "        print(f\"Found {len(cat_images)} cat images and {len(dog_images)} dog images\")\n",
    "\n",
    "        download_images(cat_images, folder=\"cats\")\n",
    "        download_images(dog_images, folder=\"dogs\")\n",
    "\n",
    "    finally:\n",
    "        driver.quit()"
   ]
  }
 ],
 "metadata": {
  "kernelspec": {
   "display_name": "Python 3 (ipykernel)",
   "language": "python",
   "name": "python3"
  },
  "language_info": {
   "codemirror_mode": {
    "name": "ipython",
    "version": 3
   },
   "file_extension": ".py",
   "mimetype": "text/x-python",
   "name": "python",
   "nbconvert_exporter": "python",
   "pygments_lexer": "ipython3",
   "version": "3.11.0"
  }
 },
 "nbformat": 4,
 "nbformat_minor": 5
}
