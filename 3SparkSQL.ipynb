{
 "cells": [
  {
   "cell_type": "code",
   "execution_count": null,
   "id": "a5351c86-4055-49b2-bfdd-78b9ac020dc6",
   "metadata": {},
   "outputs": [],
   "source": [
    "spark = SparkSession.builder.appName(\"Image_Classification\").getOrCreate()\n"
   ]
  },
  {
   "cell_type": "code",
   "execution_count": null,
   "id": "5eba10c6-174d-417f-b392-9e598a903ee3",
   "metadata": {},
   "outputs": [],
   "source": [
    "def extract_features_from_image(image_path):\n",
    "    try:\n",
    "        img = Image.open(image_path).convert(\"L\")  # Convert to grayscale\n",
    "        img = img.resize((64, 64))  # Resize to fixed size\n",
    "        img_array = np.array(img).flatten()  # Convert to 1D vector\n",
    "        return img_array.tolist()\n",
    "    except:\n",
    "        return None  # Handle errors\n"
   ]
  },
  {
   "cell_type": "code",
   "execution_count": null,
   "id": "bab77bfe-d1ab-42b3-8189-6176a1a6d4d2",
   "metadata": {},
   "outputs": [],
   "source": [
    "def load_image_data(folder, label):\n",
    "    data = []\n",
    "    for filename in os.listdir(folder):\n",
    "        img_path = os.path.join(folder, filename)\n",
    "        features = extract_features_from_image(img_path)\n",
    "        if features:\n",
    "            data.append((filename, features, label))  # Include filename for reference\n",
    "    return data\n"
   ]
  },
  {
   "cell_type": "code",
   "execution_count": null,
   "id": "85364d43-7079-4d3d-ade7-8756cb3118f1",
   "metadata": {},
   "outputs": [],
   "source": [
    "cat_data = load_image_data(\"cats\", label=0)\n",
    "dog_data = load_image_data(\"dogs\", label=1)\n"
   ]
  },
  {
   "cell_type": "code",
   "execution_count": null,
   "id": "80ca2ca1-4a2b-48dd-9573-8984b64ed1e1",
   "metadata": {},
   "outputs": [],
   "source": [
    "columns = [\"filename\", \"features\", \"label\"]\n",
    "image_data = cat_data + dog_data\n",
    "df = spark.createDataFrame(image_data, columns)\n"
   ]
  },
  {
   "cell_type": "code",
   "execution_count": null,
   "id": "189a6c3b-5824-4ded-83ef-29fbff3a9f65",
   "metadata": {},
   "outputs": [],
   "source": [
    "df.createOrReplaceTempView(\"image_data\")\n"
   ]
  },
  {
   "cell_type": "code",
   "execution_count": null,
   "id": "e09249ff-30f4-4dcb-84ff-3d35ca50eee2",
   "metadata": {},
   "outputs": [],
   "source": [
    "print(\"Total images in dataset:\")\n",
    "spark.sql(\"SELECT COUNT(*) FROM image_data\").show()"
   ]
  },
  {
   "cell_type": "code",
   "execution_count": null,
   "id": "2832a529-f45b-4413-9d39-fe4f1bcd3cea",
   "metadata": {},
   "outputs": [],
   "source": [
    "print(\"Count of cat vs dog images:\")\n",
    "spark.sql(\"SELECT label, COUNT(*) AS count FROM image_data GROUP BY label\").show()\n"
   ]
  },
  {
   "cell_type": "code",
   "execution_count": null,
   "id": "616d99be-12d5-4619-8d54-01e928659c40",
   "metadata": {},
   "outputs": [],
   "source": [
    "vector_assembler = VectorAssembler(inputCols=[\"features\"], outputCol=\"features_vector\")\n",
    "df = vector_assembler.transform(df).select(\"filename\", \"features_vector\", \"label\")\n"
   ]
  },
  {
   "cell_type": "code",
   "execution_count": null,
   "id": "573c8574-a639-47ee-93c0-fedd75e47584",
   "metadata": {},
   "outputs": [],
   "source": [
    "df.createOrReplaceTempView(\"processed_data\")\n"
   ]
  },
  {
   "cell_type": "code",
   "execution_count": null,
   "id": "570518f2-2348-40a1-bfdb-0385aa99f824",
   "metadata": {},
   "outputs": [],
   "source": [
    "print(\"First 5 cat images:\")\n",
    "spark.sql(\"SELECT * FROM processed_data WHERE label = 0 LIMIT 5\").show()\n",
    "\n",
    "# Split into training and testing sets\n",
    "train_data, test_data = df.randomSplit([0.8, 0.2], seed=42)\n",
    "\n",
    "# Train Decision Tree Model\n",
    "dt = DecisionTreeClassifier(featuresCol=\"features_vector\", labelCol=\"label\")\n",
    "model = dt.fit(train_data)\n",
    "\n",
    "# Make predictions\n",
    "predictions = model.transform(test_data)\n"
   ]
  },
  {
   "cell_type": "code",
   "execution_count": null,
   "id": "7ad82d31-b813-473d-af4d-80e50295db47",
   "metadata": {},
   "outputs": [],
   "source": [
    "evaluator = MulticlassClassificationEvaluator(labelCol=\"label\", metricName=\"accuracy\")\n",
    "accuracy = evaluator.evaluate(predictions)\n",
    "print(f\"Decision Tree Model Accuracy: {accuracy * 100:.2f}%\")\n"
   ]
  },
  {
   "cell_type": "code",
   "execution_count": null,
   "id": "99f600bf-31e6-470c-977e-1eba09ea8df0",
   "metadata": {},
   "outputs": [],
   "source": [
    "model.save(\"pyspark_decision_tree_model\")\n"
   ]
  },
  {
   "cell_type": "code",
   "execution_count": null,
   "id": "427badd0-711e-497a-96bb-bc02f470d4ee",
   "metadata": {},
   "outputs": [],
   "source": []
  },
  {
   "cell_type": "code",
   "execution_count": null,
   "id": "75224a6c-c59b-4643-a4b0-31333cc58c0a",
   "metadata": {},
   "outputs": [],
   "source": [
    "from pyspark.sql import SparkSession\n",
    "from pyspark.sql.functions import col\n",
    "from pyspark.ml.classification import DecisionTreeClassifier\n",
    "from pyspark.ml.feature import VectorAssembler\n",
    "from pyspark.ml.evaluation import MulticlassClassificationEvaluator\n",
    "import numpy as np\n",
    "import os\n",
    "from PIL import Image"
   ]
  }
 ],
 "metadata": {
  "kernelspec": {
   "display_name": "Python 3 (ipykernel)",
   "language": "python",
   "name": "python3"
  },
  "language_info": {
   "codemirror_mode": {
    "name": "ipython",
    "version": 3
   },
   "file_extension": ".py",
   "mimetype": "text/x-python",
   "name": "python",
   "nbconvert_exporter": "python",
   "pygments_lexer": "ipython3",
   "version": "3.11.0"
  }
 },
 "nbformat": 4,
 "nbformat_minor": 5
}
