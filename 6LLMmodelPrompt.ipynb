{
 "cells": [
  {
   "cell_type": "markdown",
   "id": "f1172c26-3df6-4116-91ec-bb6a315772bc",
   "metadata": {},
   "source": [
    "## Add Text-to-Image with a Pretrained LLM\n"
   ]
  },
  {
   "cell_type": "markdown",
   "id": "146d241a-403d-482c-a1e4-acb67f04e8ca",
   "metadata": {},
   "source": [
    "# TARGET"
   ]
  },
  {
   "cell_type": "code",
   "execution_count": null,
   "id": "f02ff566-931a-4c33-84ac-295e774c9935",
   "metadata": {},
   "outputs": [],
   "source": [
    "import openai"
   ]
  },
  {
   "cell_type": "markdown",
   "id": "75f5d995-fb7a-4035-9e3f-7f0ebd9f612b",
   "metadata": {},
   "source": [
    "print(generate_image_from_text(\"A cute fluffy cat sitting on a mountain.\"))\n",
    "then it should somehow generate image."
   ]
  },
  {
   "cell_type": "code",
   "execution_count": null,
   "id": "809d4b7b-afb0-4a7a-8831-35342df75828",
   "metadata": {},
   "outputs": [],
   "source": []
  }
 ],
 "metadata": {
  "kernelspec": {
   "display_name": "Python 3 (ipykernel)",
   "language": "python",
   "name": "python3"
  },
  "language_info": {
   "codemirror_mode": {
    "name": "ipython",
    "version": 3
   },
   "file_extension": ".py",
   "mimetype": "text/x-python",
   "name": "python",
   "nbconvert_exporter": "python",
   "pygments_lexer": "ipython3",
   "version": "3.11.0"
  }
 },
 "nbformat": 4,
 "nbformat_minor": 5
}
