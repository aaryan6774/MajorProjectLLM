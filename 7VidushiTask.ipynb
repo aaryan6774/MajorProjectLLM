{
 "cells": [
  {
   "cell_type": "markdown",
   "id": "3b248447-8691-454b-afbb-70d62eaee001",
   "metadata": {},
   "source": [
    "# Build a Flask Web App for Image Generation\n"
   ]
  },
  {
   "cell_type": "markdown",
   "id": "7158827b-6602-45bc-b342-2927121a606b",
   "metadata": {},
   "source": [
    "frontend code development"
   ]
  },
  {
   "cell_type": "code",
   "execution_count": null,
   "id": "0e9fef65-3715-456e-96b8-0a5b4c6385eb",
   "metadata": {},
   "outputs": [],
   "source": []
  }
 ],
 "metadata": {
  "kernelspec": {
   "display_name": "Python 3 (ipykernel)",
   "language": "python",
   "name": "python3"
  },
  "language_info": {
   "codemirror_mode": {
    "name": "ipython",
    "version": 3
   },
   "file_extension": ".py",
   "mimetype": "text/x-python",
   "name": "python",
   "nbconvert_exporter": "python",
   "pygments_lexer": "ipython3",
   "version": "3.11.0"
  }
 },
 "nbformat": 4,
 "nbformat_minor": 5
}
